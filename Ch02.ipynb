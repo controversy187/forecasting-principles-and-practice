{
 "cells": [
  {
   "cell_type": "markdown",
   "metadata": {},
   "source": [
    "# Chapter 02 - Time Series Graphics"
   ]
  },
  {
   "cell_type": "markdown",
   "metadata": {},
   "source": [
    "## Section 2.1: tsibble Objects\n",
    "Note, this will be replaced with Pandas objects."
   ]
  },
  {
   "cell_type": "code",
   "execution_count": 50,
   "metadata": {},
   "outputs": [],
   "source": [
    "import pandas as pd\n",
    "import pyreadr\n",
    "\n",
    "# Helper to load the data packaged with tsibbledata\n",
    "def load_tsibble_data(dataset):\n",
    "    result = pyreadr.read_r(f\"tsibble_data/{dataset}.rda\")\n",
    "    return result[dataset]\n"
   ]
  },
  {
   "cell_type": "code",
   "execution_count": 43,
   "metadata": {},
   "outputs": [
    {
     "name": "stdout",
     "output_type": "stream",
     "text": [
      "      Observation\n",
      "Year             \n",
      "2015          123\n",
      "2016           39\n",
      "2017           78\n",
      "2018           52\n",
      "2019          110\n"
     ]
    }
   ],
   "source": [
    "data = {\n",
    "    'Year': range(2015, 2020),\n",
    "    'Observation': [123, 39, 78, 52, 110]\n",
    "}\n",
    "\n",
    "y = pd.DataFrame(data)\n",
    "y = y.set_index('Year')\n",
    "\n",
    "print(y)"
   ]
  },
  {
   "cell_type": "code",
   "execution_count": 17,
   "metadata": {},
   "outputs": [
    {
     "name": "stdout",
     "output_type": "stream",
     "text": [
      "            Observation\n",
      "Month                  \n",
      "2019-01-01           50\n",
      "2019-02-01           23\n",
      "2019-03-01           34\n",
      "2019-04-01           30\n",
      "2019-05-01           25\n"
     ]
    }
   ],
   "source": [
    "#> # A tibble: 5 × 2\n",
    "#>   Month    Observation\n",
    "#>   <chr>          <dbl>\n",
    "#> 1 2019 Jan          50\n",
    "#> 2 2019 Feb          23\n",
    "#> 3 2019 Mar          34\n",
    "#> 4 2019 Apr          30\n",
    "#> 5 2019 May          25\n",
    "\n",
    "data = {\n",
    "    \"Month\": [\"2019 Jan\", \"2019 Feb\", \"2019 Mar\", \"2019 Apr\", \"2019 May\"],\n",
    "    \"Observation\": [50, 23, 34, 30, 25]\n",
    "}\n",
    "df = pd.DataFrame(data)\n",
    "\n",
    "# Convert the Month column from text to a datetime object using a format string.\n",
    "df[\"Month\"] = pd.to_datetime(df[\"Month\"], format=\"%Y %b\")\n",
    "\n",
    "# Set the Month column as the index\n",
    "df.set_index(\"Month\", inplace=True)\n",
    "\n",
    "# Optionally, enforce monthly frequency by setting the frequency to month start (\"MS\")\n",
    "df = df.asfreq('MS')\n",
    "\n",
    "print(df)"
   ]
  },
  {
   "cell_type": "code",
   "execution_count": 52,
   "metadata": {},
   "outputs": [
    {
     "name": "stdout",
     "output_type": "stream",
     "text": [
      "     Year  Length    Sex     Time\n",
      "0    1896     100    men    12.00\n",
      "1    1900     100    men    11.00\n",
      "2    1904     100    men    11.00\n",
      "3    1908     100    men    10.80\n",
      "4    1912     100    men    10.80\n",
      "..    ...     ...    ...      ...\n",
      "307  2000   10000  women  1817.49\n",
      "308  2004   10000  women  1824.36\n",
      "309  2008   10000  women  1794.66\n",
      "310  2012   10000  women  1820.75\n",
      "311  2016   10000  women  1757.45\n",
      "\n",
      "[312 rows x 4 columns]\n",
      "Using drop_duplicates:\n",
      "    Year  Length    Sex  Time\n",
      "0   1896     100    men  12.0\n",
      "31  1928     100  women  12.2\n",
      "\n",
      "Using unique:\n",
      "['men' 'women']\n"
     ]
    }
   ],
   "source": [
    "#olympic_running\n",
    "#> # A tsibble: 312 x 4 [4Y]\n",
    "#> # Key:       Length, Sex [14]\n",
    "#>     Year Length Sex    Time\n",
    "#>    <int>  <int> <chr> <dbl>\n",
    "#>  1  1896    100 men    12  \n",
    "#>  2  1900    100 men    11  \n",
    "#>  3  1904    100 men    11  \n",
    "#>  4  1908    100 men    10.8\n",
    "#>  5  1912    100 men    10.8\n",
    "#>  6  1916    100 men    NA  \n",
    "#>  7  1920    100 men    10.8\n",
    "#>  8  1924    100 men    10.6\n",
    "#>  9  1928    100 men    10.8\n",
    "#> 10  1932    100 men    10.3\n",
    "#> # ℹ 302 more rows\n",
    "\n",
    "data = load_tsibble_data(\"olympic_running\")\n",
    "\n",
    "df = pd.DataFrame(data)\n",
    "print(df)\n",
    "\n",
    "# Using drop_duplicates to get a DataFrame of distinct values\n",
    "distinct_sex_df = df.drop_duplicates(subset='Sex')\n",
    "print(\"Using drop_duplicates:\")\n",
    "print(distinct_sex_df)\n",
    "\n",
    "# Using unique to get an array of unique values\n",
    "distinct_sex_array = df['Sex'].unique()\n",
    "print(\"\\nUsing unique:\")\n",
    "print(distinct_sex_array)"
   ]
  },
  {
   "cell_type": "code",
   "execution_count": 71,
   "metadata": {},
   "outputs": [
    {
     "name": "stdout",
     "output_type": "stream",
     "text": [
      "         Month    Concession         Type ATC1  \\\n",
      "0       7851.0  Concessional  Co-payments    A   \n",
      "1       7882.0  Concessional  Co-payments    A   \n",
      "2       7913.0  Concessional  Co-payments    A   \n",
      "3       7943.0  Concessional  Co-payments    A   \n",
      "4       7974.0  Concessional  Co-payments    A   \n",
      "...        ...           ...          ...  ...   \n",
      "67591  13910.0       General   Safety net    Z   \n",
      "67592  13939.0       General   Safety net    Z   \n",
      "67593  13970.0       General   Safety net    Z   \n",
      "67594  14000.0       General   Safety net    Z   \n",
      "67595  14031.0       General   Safety net    Z   \n",
      "\n",
      "                             ATC1_desc ATC2                    ATC2_desc  \\\n",
      "0      Alimentary tract and metabolism  A01  STOMATOLOGICAL PREPARATIONS   \n",
      "1      Alimentary tract and metabolism  A01  STOMATOLOGICAL PREPARATIONS   \n",
      "2      Alimentary tract and metabolism  A01  STOMATOLOGICAL PREPARATIONS   \n",
      "3      Alimentary tract and metabolism  A01  STOMATOLOGICAL PREPARATIONS   \n",
      "4      Alimentary tract and metabolism  A01  STOMATOLOGICAL PREPARATIONS   \n",
      "...                                ...  ...                          ...   \n",
      "67591                              NaN    Z                            Z   \n",
      "67592                              NaN    Z                            Z   \n",
      "67593                              NaN    Z                            Z   \n",
      "67594                              NaN    Z                            Z   \n",
      "67595                              NaN    Z                            Z   \n",
      "\n",
      "       Scripts     Cost  \n",
      "0      18228.0  67877.0  \n",
      "1      15327.0  57011.0  \n",
      "2      14775.0  55020.0  \n",
      "3      15380.0  57222.0  \n",
      "4      14371.0  52120.0  \n",
      "...        ...      ...  \n",
      "67591    135.0   1591.0  \n",
      "67592     15.0    276.0  \n",
      "67593     11.0    165.0  \n",
      "67594     21.0    278.0  \n",
      "67595     57.0    491.0  \n",
      "\n",
      "[67596 rows x 9 columns]\n"
     ]
    },
    {
     "ename": "ValueError",
     "evalue": "cannot reindex on an axis with duplicate labels",
     "output_type": "error",
     "traceback": [
      "\u001b[31m---------------------------------------------------------------------------\u001b[39m",
      "\u001b[31mValueError\u001b[39m                                Traceback (most recent call last)",
      "\u001b[36mCell\u001b[39m\u001b[36m \u001b[39m\u001b[32mIn[71]\u001b[39m\u001b[32m, line 7\u001b[39m\n\u001b[32m      5\u001b[39m df[\u001b[33m\"\u001b[39m\u001b[33mMonth\u001b[39m\u001b[33m\"\u001b[39m] = pd.to_datetime(df[\u001b[33m\"\u001b[39m\u001b[33mMonth\u001b[39m\u001b[33m\"\u001b[39m].astype(\u001b[38;5;28mint\u001b[39m), unit=\u001b[33m'\u001b[39m\u001b[33mD\u001b[39m\u001b[33m'\u001b[39m, origin=\u001b[33m'\u001b[39m\u001b[33munix\u001b[39m\u001b[33m'\u001b[39m)\n\u001b[32m      6\u001b[39m df.set_index(\u001b[33m\"\u001b[39m\u001b[33mMonth\u001b[39m\u001b[33m\"\u001b[39m, inplace=\u001b[38;5;28;01mTrue\u001b[39;00m)\n\u001b[32m----> \u001b[39m\u001b[32m7\u001b[39m df = \u001b[43mdf\u001b[49m\u001b[43m.\u001b[49m\u001b[43masfreq\u001b[49m\u001b[43m(\u001b[49m\u001b[33;43m'\u001b[39;49m\u001b[33;43mMS\u001b[39;49m\u001b[33;43m'\u001b[39;49m\u001b[43m)\u001b[49m    \n\u001b[32m      8\u001b[39m \u001b[38;5;66;03m#print(df.head())\u001b[39;00m\n",
      "\u001b[36mFile \u001b[39m\u001b[32m/media/Data/LaptopDesktopSync/Python/Forecasting - Principles and Practice/.lvenv/lib/python3.12/site-packages/pandas/core/generic.py:9231\u001b[39m, in \u001b[36mNDFrame.asfreq\u001b[39m\u001b[34m(self, freq, method, how, normalize, fill_value)\u001b[39m\n\u001b[32m   9124\u001b[39m \u001b[38;5;250m\u001b[39m\u001b[33;03m\"\"\"\u001b[39;00m\n\u001b[32m   9125\u001b[39m \u001b[33;03mConvert time series to specified frequency.\u001b[39;00m\n\u001b[32m   9126\u001b[39m \n\u001b[32m   (...)\u001b[39m\u001b[32m   9227\u001b[39m \u001b[33;03m2000-01-01 00:03:00    3.0\u001b[39;00m\n\u001b[32m   9228\u001b[39m \u001b[33;03m\"\"\"\u001b[39;00m\n\u001b[32m   9229\u001b[39m \u001b[38;5;28;01mfrom\u001b[39;00m\u001b[38;5;250m \u001b[39m\u001b[34;01mpandas\u001b[39;00m\u001b[34;01m.\u001b[39;00m\u001b[34;01mcore\u001b[39;00m\u001b[34;01m.\u001b[39;00m\u001b[34;01mresample\u001b[39;00m\u001b[38;5;250m \u001b[39m\u001b[38;5;28;01mimport\u001b[39;00m asfreq\n\u001b[32m-> \u001b[39m\u001b[32m9231\u001b[39m \u001b[38;5;28;01mreturn\u001b[39;00m \u001b[43masfreq\u001b[49m\u001b[43m(\u001b[49m\n\u001b[32m   9232\u001b[39m \u001b[43m    \u001b[49m\u001b[38;5;28;43mself\u001b[39;49m\u001b[43m,\u001b[49m\n\u001b[32m   9233\u001b[39m \u001b[43m    \u001b[49m\u001b[43mfreq\u001b[49m\u001b[43m,\u001b[49m\n\u001b[32m   9234\u001b[39m \u001b[43m    \u001b[49m\u001b[43mmethod\u001b[49m\u001b[43m=\u001b[49m\u001b[43mmethod\u001b[49m\u001b[43m,\u001b[49m\n\u001b[32m   9235\u001b[39m \u001b[43m    \u001b[49m\u001b[43mhow\u001b[49m\u001b[43m=\u001b[49m\u001b[43mhow\u001b[49m\u001b[43m,\u001b[49m\n\u001b[32m   9236\u001b[39m \u001b[43m    \u001b[49m\u001b[43mnormalize\u001b[49m\u001b[43m=\u001b[49m\u001b[43mnormalize\u001b[49m\u001b[43m,\u001b[49m\n\u001b[32m   9237\u001b[39m \u001b[43m    \u001b[49m\u001b[43mfill_value\u001b[49m\u001b[43m=\u001b[49m\u001b[43mfill_value\u001b[49m\u001b[43m,\u001b[49m\n\u001b[32m   9238\u001b[39m \u001b[43m\u001b[49m\u001b[43m)\u001b[49m\n",
      "\u001b[36mFile \u001b[39m\u001b[32m/media/Data/LaptopDesktopSync/Python/Forecasting - Principles and Practice/.lvenv/lib/python3.12/site-packages/pandas/core/resample.py:2837\u001b[39m, in \u001b[36masfreq\u001b[39m\u001b[34m(obj, freq, method, how, normalize, fill_value)\u001b[39m\n\u001b[32m   2835\u001b[39m dti = date_range(obj.index.min(), obj.index.max(), freq=freq, unit=unit)\n\u001b[32m   2836\u001b[39m dti.name = obj.index.name\n\u001b[32m-> \u001b[39m\u001b[32m2837\u001b[39m new_obj = \u001b[43mobj\u001b[49m\u001b[43m.\u001b[49m\u001b[43mreindex\u001b[49m\u001b[43m(\u001b[49m\u001b[43mdti\u001b[49m\u001b[43m,\u001b[49m\u001b[43m \u001b[49m\u001b[43mmethod\u001b[49m\u001b[43m=\u001b[49m\u001b[43mmethod\u001b[49m\u001b[43m,\u001b[49m\u001b[43m \u001b[49m\u001b[43mfill_value\u001b[49m\u001b[43m=\u001b[49m\u001b[43mfill_value\u001b[49m\u001b[43m)\u001b[49m\n\u001b[32m   2838\u001b[39m \u001b[38;5;28;01mif\u001b[39;00m normalize:\n\u001b[32m   2839\u001b[39m     new_obj.index = new_obj.index.normalize()\n",
      "\u001b[36mFile \u001b[39m\u001b[32m/media/Data/LaptopDesktopSync/Python/Forecasting - Principles and Practice/.lvenv/lib/python3.12/site-packages/pandas/core/frame.py:5378\u001b[39m, in \u001b[36mDataFrame.reindex\u001b[39m\u001b[34m(self, labels, index, columns, axis, method, copy, level, fill_value, limit, tolerance)\u001b[39m\n\u001b[32m   5359\u001b[39m \u001b[38;5;129m@doc\u001b[39m(\n\u001b[32m   5360\u001b[39m     NDFrame.reindex,\n\u001b[32m   5361\u001b[39m     klass=_shared_doc_kwargs[\u001b[33m\"\u001b[39m\u001b[33mklass\u001b[39m\u001b[33m\"\u001b[39m],\n\u001b[32m   (...)\u001b[39m\u001b[32m   5376\u001b[39m     tolerance=\u001b[38;5;28;01mNone\u001b[39;00m,\n\u001b[32m   5377\u001b[39m ) -> DataFrame:\n\u001b[32m-> \u001b[39m\u001b[32m5378\u001b[39m     \u001b[38;5;28;01mreturn\u001b[39;00m \u001b[38;5;28;43msuper\u001b[39;49m\u001b[43m(\u001b[49m\u001b[43m)\u001b[49m\u001b[43m.\u001b[49m\u001b[43mreindex\u001b[49m\u001b[43m(\u001b[49m\n\u001b[32m   5379\u001b[39m \u001b[43m        \u001b[49m\u001b[43mlabels\u001b[49m\u001b[43m=\u001b[49m\u001b[43mlabels\u001b[49m\u001b[43m,\u001b[49m\n\u001b[32m   5380\u001b[39m \u001b[43m        \u001b[49m\u001b[43mindex\u001b[49m\u001b[43m=\u001b[49m\u001b[43mindex\u001b[49m\u001b[43m,\u001b[49m\n\u001b[32m   5381\u001b[39m \u001b[43m        \u001b[49m\u001b[43mcolumns\u001b[49m\u001b[43m=\u001b[49m\u001b[43mcolumns\u001b[49m\u001b[43m,\u001b[49m\n\u001b[32m   5382\u001b[39m \u001b[43m        \u001b[49m\u001b[43maxis\u001b[49m\u001b[43m=\u001b[49m\u001b[43maxis\u001b[49m\u001b[43m,\u001b[49m\n\u001b[32m   5383\u001b[39m \u001b[43m        \u001b[49m\u001b[43mmethod\u001b[49m\u001b[43m=\u001b[49m\u001b[43mmethod\u001b[49m\u001b[43m,\u001b[49m\n\u001b[32m   5384\u001b[39m \u001b[43m        \u001b[49m\u001b[43mcopy\u001b[49m\u001b[43m=\u001b[49m\u001b[43mcopy\u001b[49m\u001b[43m,\u001b[49m\n\u001b[32m   5385\u001b[39m \u001b[43m        \u001b[49m\u001b[43mlevel\u001b[49m\u001b[43m=\u001b[49m\u001b[43mlevel\u001b[49m\u001b[43m,\u001b[49m\n\u001b[32m   5386\u001b[39m \u001b[43m        \u001b[49m\u001b[43mfill_value\u001b[49m\u001b[43m=\u001b[49m\u001b[43mfill_value\u001b[49m\u001b[43m,\u001b[49m\n\u001b[32m   5387\u001b[39m \u001b[43m        \u001b[49m\u001b[43mlimit\u001b[49m\u001b[43m=\u001b[49m\u001b[43mlimit\u001b[49m\u001b[43m,\u001b[49m\n\u001b[32m   5388\u001b[39m \u001b[43m        \u001b[49m\u001b[43mtolerance\u001b[49m\u001b[43m=\u001b[49m\u001b[43mtolerance\u001b[49m\u001b[43m,\u001b[49m\n\u001b[32m   5389\u001b[39m \u001b[43m    \u001b[49m\u001b[43m)\u001b[49m\n",
      "\u001b[36mFile \u001b[39m\u001b[32m/media/Data/LaptopDesktopSync/Python/Forecasting - Principles and Practice/.lvenv/lib/python3.12/site-packages/pandas/core/generic.py:5610\u001b[39m, in \u001b[36mNDFrame.reindex\u001b[39m\u001b[34m(self, labels, index, columns, axis, method, copy, level, fill_value, limit, tolerance)\u001b[39m\n\u001b[32m   5607\u001b[39m     \u001b[38;5;28;01mreturn\u001b[39;00m \u001b[38;5;28mself\u001b[39m._reindex_multi(axes, copy, fill_value)\n\u001b[32m   5609\u001b[39m \u001b[38;5;66;03m# perform the reindex on the axes\u001b[39;00m\n\u001b[32m-> \u001b[39m\u001b[32m5610\u001b[39m \u001b[38;5;28;01mreturn\u001b[39;00m \u001b[38;5;28;43mself\u001b[39;49m\u001b[43m.\u001b[49m\u001b[43m_reindex_axes\u001b[49m\u001b[43m(\u001b[49m\n\u001b[32m   5611\u001b[39m \u001b[43m    \u001b[49m\u001b[43maxes\u001b[49m\u001b[43m,\u001b[49m\u001b[43m \u001b[49m\u001b[43mlevel\u001b[49m\u001b[43m,\u001b[49m\u001b[43m \u001b[49m\u001b[43mlimit\u001b[49m\u001b[43m,\u001b[49m\u001b[43m \u001b[49m\u001b[43mtolerance\u001b[49m\u001b[43m,\u001b[49m\u001b[43m \u001b[49m\u001b[43mmethod\u001b[49m\u001b[43m,\u001b[49m\u001b[43m \u001b[49m\u001b[43mfill_value\u001b[49m\u001b[43m,\u001b[49m\u001b[43m \u001b[49m\u001b[43mcopy\u001b[49m\n\u001b[32m   5612\u001b[39m \u001b[43m\u001b[49m\u001b[43m)\u001b[49m.__finalize__(\u001b[38;5;28mself\u001b[39m, method=\u001b[33m\"\u001b[39m\u001b[33mreindex\u001b[39m\u001b[33m\"\u001b[39m)\n",
      "\u001b[36mFile \u001b[39m\u001b[32m/media/Data/LaptopDesktopSync/Python/Forecasting - Principles and Practice/.lvenv/lib/python3.12/site-packages/pandas/core/generic.py:5633\u001b[39m, in \u001b[36mNDFrame._reindex_axes\u001b[39m\u001b[34m(self, axes, level, limit, tolerance, method, fill_value, copy)\u001b[39m\n\u001b[32m   5630\u001b[39m     \u001b[38;5;28;01mcontinue\u001b[39;00m\n\u001b[32m   5632\u001b[39m ax = \u001b[38;5;28mself\u001b[39m._get_axis(a)\n\u001b[32m-> \u001b[39m\u001b[32m5633\u001b[39m new_index, indexer = \u001b[43max\u001b[49m\u001b[43m.\u001b[49m\u001b[43mreindex\u001b[49m\u001b[43m(\u001b[49m\n\u001b[32m   5634\u001b[39m \u001b[43m    \u001b[49m\u001b[43mlabels\u001b[49m\u001b[43m,\u001b[49m\u001b[43m \u001b[49m\u001b[43mlevel\u001b[49m\u001b[43m=\u001b[49m\u001b[43mlevel\u001b[49m\u001b[43m,\u001b[49m\u001b[43m \u001b[49m\u001b[43mlimit\u001b[49m\u001b[43m=\u001b[49m\u001b[43mlimit\u001b[49m\u001b[43m,\u001b[49m\u001b[43m \u001b[49m\u001b[43mtolerance\u001b[49m\u001b[43m=\u001b[49m\u001b[43mtolerance\u001b[49m\u001b[43m,\u001b[49m\u001b[43m \u001b[49m\u001b[43mmethod\u001b[49m\u001b[43m=\u001b[49m\u001b[43mmethod\u001b[49m\n\u001b[32m   5635\u001b[39m \u001b[43m\u001b[49m\u001b[43m)\u001b[49m\n\u001b[32m   5637\u001b[39m axis = \u001b[38;5;28mself\u001b[39m._get_axis_number(a)\n\u001b[32m   5638\u001b[39m obj = obj._reindex_with_indexers(\n\u001b[32m   5639\u001b[39m     {axis: [new_index, indexer]},\n\u001b[32m   5640\u001b[39m     fill_value=fill_value,\n\u001b[32m   5641\u001b[39m     copy=copy,\n\u001b[32m   5642\u001b[39m     allow_dups=\u001b[38;5;28;01mFalse\u001b[39;00m,\n\u001b[32m   5643\u001b[39m )\n",
      "\u001b[36mFile \u001b[39m\u001b[32m/media/Data/LaptopDesktopSync/Python/Forecasting - Principles and Practice/.lvenv/lib/python3.12/site-packages/pandas/core/indexes/base.py:4429\u001b[39m, in \u001b[36mIndex.reindex\u001b[39m\u001b[34m(self, target, method, level, limit, tolerance)\u001b[39m\n\u001b[32m   4426\u001b[39m     \u001b[38;5;28;01mraise\u001b[39;00m \u001b[38;5;167;01mValueError\u001b[39;00m(\u001b[33m\"\u001b[39m\u001b[33mcannot handle a non-unique multi-index!\u001b[39m\u001b[33m\"\u001b[39m)\n\u001b[32m   4427\u001b[39m \u001b[38;5;28;01melif\u001b[39;00m \u001b[38;5;129;01mnot\u001b[39;00m \u001b[38;5;28mself\u001b[39m.is_unique:\n\u001b[32m   4428\u001b[39m     \u001b[38;5;66;03m# GH#42568\u001b[39;00m\n\u001b[32m-> \u001b[39m\u001b[32m4429\u001b[39m     \u001b[38;5;28;01mraise\u001b[39;00m \u001b[38;5;167;01mValueError\u001b[39;00m(\u001b[33m\"\u001b[39m\u001b[33mcannot reindex on an axis with duplicate labels\u001b[39m\u001b[33m\"\u001b[39m)\n\u001b[32m   4430\u001b[39m \u001b[38;5;28;01melse\u001b[39;00m:\n\u001b[32m   4431\u001b[39m     indexer, _ = \u001b[38;5;28mself\u001b[39m.get_indexer_non_unique(target)\n",
      "\u001b[31mValueError\u001b[39m: cannot reindex on an axis with duplicate labels"
     ]
    }
   ],
   "source": [
    "data = load_tsibble_data(\"PBS\")\n",
    "print(data)\n",
    "df = pd.DataFrame(data)\n",
    "#df[\"Month\"] = pd.to_datetime(df[\"Month\"], format=\"%Y %b\")\n",
    "df[\"Month\"] = pd.to_datetime(df[\"Month\"].astype(int), unit='D', origin='unix')\n",
    "df.set_index(\"Month\", inplace=True)\n",
    "df = df.asfreq('MS')    \n",
    "#print(df.head())"
   ]
  },
  {
   "cell_type": "code",
   "execution_count": null,
   "metadata": {},
   "outputs": [],
   "source": [
    "print"
   ]
  }
 ],
 "metadata": {
  "kernelspec": {
   "display_name": ".lvenv",
   "language": "python",
   "name": "python3"
  },
  "language_info": {
   "codemirror_mode": {
    "name": "ipython",
    "version": 3
   },
   "file_extension": ".py",
   "mimetype": "text/x-python",
   "name": "python",
   "nbconvert_exporter": "python",
   "pygments_lexer": "ipython3",
   "version": "3.12.7"
  }
 },
 "nbformat": 4,
 "nbformat_minor": 2
}
